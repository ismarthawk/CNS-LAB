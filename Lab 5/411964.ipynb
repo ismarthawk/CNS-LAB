{
 "cells": [
  {
   "cell_type": "code",
   "execution_count": null,
   "id": "f667660f",
   "metadata": {},
   "outputs": [],
   "source": [
    "pip install Crypto"
   ]
  },
  {
   "cell_type": "code",
   "execution_count": null,
   "id": "fd772068",
   "metadata": {},
   "outputs": [],
   "source": [
    "from Crypto.Cipher import DES3\n",
    "import base64   "
   ]
  },
  {
   "cell_type": "code",
   "execution_count": null,
   "id": "f5164c57",
   "metadata": {},
   "outputs": [],
   "source": [
    "pip install pycryptodome"
   ]
  },
  {
   "cell_type": "code",
   "execution_count": null,
   "id": "bb45f4ca",
   "metadata": {},
   "outputs": [],
   "source": [
    "pip show pycryptodome"
   ]
  },
  {
   "cell_type": "code",
   "execution_count": null,
   "id": "6d73ffd6",
   "metadata": {},
   "outputs": [],
   "source": [
    "version\n"
   ]
  },
  {
   "cell_type": "code",
   "execution_count": null,
   "id": "d0f58438",
   "metadata": {},
   "outputs": [],
   "source": [
    "BS = DES3.block_size\n"
   ]
  },
  {
   "cell_type": "code",
   "execution_count": null,
   "id": "479bdb4c",
   "metadata": {},
   "outputs": [],
   "source": [
    "pad = lambda s: s + (BS - len(s) % BS) * chr(BS - len(s) % BS)\n"
   ]
  },
  {
   "cell_type": "code",
   "execution_count": null,
   "id": "4ce82bd3",
   "metadata": {},
   "outputs": [],
   "source": [
    "unpad = lambda s : s[0:-ord(s[-1])]"
   ]
  },
  {
   "cell_type": "code",
   "execution_count": null,
   "id": "7aef5887",
   "metadata": {},
   "outputs": [],
   "source": []
  },
  {
   "cell_type": "code",
   "execution_count": null,
   "id": "8ae5e066",
   "metadata": {},
   "outputs": [],
   "source": [
    "def encrypt(text, key):\n",
    "    text = pad(text)\n",
    "    cipher = DES3.new(key,DES3.MODE_ECB)\n",
    "    m = cipher.encrypt(text)\n",
    "    m = base64.b64encode(m)\n",
    "    return m.decode('utf-8')"
   ]
  },
  {
   "cell_type": "code",
   "execution_count": null,
   "id": "07049403",
   "metadata": {},
   "outputs": [],
   "source": [
    "def decrypt(decrypted_text, key):\n",
    "    text = base64.b64decode(decrypted_text)\n",
    "    cipher = DES3.new(key, DES3.MODE_ECB)\n",
    "    s = cipher.decrypt(text)\n",
    "    s = unpad(s)\n",
    "    return s.decode('utf-8')\n",
    " "
   ]
  },
  {
   "cell_type": "code",
   "execution_count": null,
   "id": "43b52a11",
   "metadata": {},
   "outputs": [],
   "source": [
    "encrypt('plaintext','0x01FE01FE01FE01FE')\n"
   ]
  },
  {
   "cell_type": "code",
   "execution_count": null,
   "id": "31d1e22f",
   "metadata": {},
   "outputs": [],
   "source": [
    "decrypt('qO8nDeYzqTs=','0x01FE01FE01FE01FE')"
   ]
  },
  {
   "cell_type": "code",
   "execution_count": null,
   "id": "218ee9e4",
   "metadata": {},
   "outputs": [],
   "source": [
    "print(\"hello\")"
   ]
  },
  {
   "cell_type": "code",
   "execution_count": null,
   "id": "61eceefe",
   "metadata": {},
   "outputs": [],
   "source": [
    "pip install pycrypto"
   ]
  },
  {
   "cell_type": "code",
   "execution_count": null,
   "id": "94b64d71",
   "metadata": {},
   "outputs": [],
   "source": [
    "from Crypto.Cipher import DES3\n",
    "from Crypto import Random\n",
    "\n",
    "key = b'Sixteen byte key'\n",
    "iv = Random.new().read(DES3.block_size)\n",
    "cipher = DES3.new(key, DES3.MODE_OFB, iv)\n",
    "plaintext = b'sona si latine loqueris '\n",
    "msg = iv + cipher.encrypt(plaintext)\n"
   ]
  }
 ],
 "metadata": {
  "kernelspec": {
   "display_name": "Python 3.9.4 64-bit",
   "language": "python",
   "name": "python3"
  },
  "language_info": {
   "codemirror_mode": {
    "name": "ipython",
    "version": 3
   },
   "file_extension": ".py",
   "mimetype": "text/x-python",
   "name": "python",
   "nbconvert_exporter": "python",
   "pygments_lexer": "ipython3",
   "version": "3.9.4"
  },
  "vscode": {
   "interpreter": {
    "hash": "e97508407da7449dafaad11b4210596cf741903f46f94a00b73d022029fca007"
   }
  }
 },
 "nbformat": 4,
 "nbformat_minor": 5
}
